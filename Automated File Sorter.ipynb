{
 "cells": [
  {
   "cell_type": "code",
   "execution_count": 2,
   "id": "796fe351-e734-473f-9f33-35a27150d0d7",
   "metadata": {},
   "outputs": [],
   "source": [
    "import os,shutil"
   ]
  },
  {
   "cell_type": "code",
   "execution_count": 30,
   "id": "e91c2117-8857-4db0-819a-b5bc85504abf",
   "metadata": {},
   "outputs": [],
   "source": [
    "path=r\"C:/Users/91863/Downloads/file sorter/\""
   ]
  },
  {
   "cell_type": "code",
   "execution_count": 106,
   "id": "e164e4cb-93ac-4d03-8570-aed22ef7ae05",
   "metadata": {},
   "outputs": [
    {
     "data": {
      "text/plain": [
       "['image files', 'pixelcut-export (4).png', 'text files', 'xlsx file']"
      ]
     },
     "execution_count": 106,
     "metadata": {},
     "output_type": "execute_result"
    }
   ],
   "source": [
    "file_name=os.listdir(path)\n",
    "file_name"
   ]
  },
  {
   "cell_type": "code",
   "execution_count": 44,
   "id": "2519686a-17aa-477b-a16e-880b75d56218",
   "metadata": {},
   "outputs": [],
   "source": [
    "folder_name=['xlsx file','image files','text files']\n",
    "for n in range(0,3):\n",
    "   if not os.path.exists(path+folder_name[n]):\n",
    "       os.makedirs(path+folder_name[n])"
   ]
  },
  {
   "cell_type": "code",
   "execution_count": 46,
   "id": "6fa90d4c-1632-4c69-8610-06345ef77838",
   "metadata": {},
   "outputs": [
    {
     "data": {
      "text/plain": [
       "True"
      ]
     },
     "execution_count": 46,
     "metadata": {},
     "output_type": "execute_result"
    }
   ],
   "source": [
    "os.path.exists(path+'xlsx file')"
   ]
  },
  {
   "cell_type": "code",
   "execution_count": 108,
   "id": "6162d380-c271-453e-863e-de50785e47f5",
   "metadata": {},
   "outputs": [
    {
     "name": "stdout",
     "output_type": "stream",
     "text": [
      "this file type is not include\n",
      "this file type is not include\n",
      "this file type is not include\n"
     ]
    }
   ],
   "source": [
    "for file in file_name:\n",
    "    if \".xlsx\" in file and not os.path.exists(path+\"xlsx file/\"+file):\n",
    "        shutil.move(path+file,path+\"xlsx file/\"+file)\n",
    "    elif \".jpg\" and \".webp\"and\".png\"  in file and not os.path.exists(path+\"image files/\"+file):\n",
    "        shutil.move(path+file,path+\"image files/\"+file)\n",
    "    elif \".txt\" in file and not os.path.exists(path+\"text files/\"+file):\n",
    "        shutil.move(path+file,path+\"text files/\"+file)\n",
    "    else:\n",
    "        print(\"this file type is not include\")"
   ]
  },
  {
   "cell_type": "code",
   "execution_count": 66,
   "id": "d7beb8f7-dfff-4354-bcf9-1f4d8fcbe7a1",
   "metadata": {},
   "outputs": [
    {
     "data": {
      "text/plain": [
       "True"
      ]
     },
     "execution_count": 66,
     "metadata": {},
     "output_type": "execute_result"
    }
   ],
   "source": [
    "os.path.exists(path+\"xlsx file/\"+file)"
   ]
  },
  {
   "cell_type": "code",
   "execution_count": 68,
   "id": "e2860be5-8c15-4998-9be3-6c869a6a341d",
   "metadata": {},
   "outputs": [
    {
     "data": {
      "text/plain": [
       "['xlsx fileApocolypse Food Prep - Bins Lists Tutorial.xlsx']"
      ]
     },
     "execution_count": 68,
     "metadata": {},
     "output_type": "execute_result"
    }
   ],
   "source": [
    "os.listdir(path+\"xlsx file\")"
   ]
  },
  {
   "cell_type": "code",
   "execution_count": null,
   "id": "bf1b1fed-803d-4bf6-ac60-5d97243d002f",
   "metadata": {},
   "outputs": [],
   "source": []
  }
 ],
 "metadata": {
  "kernelspec": {
   "display_name": "Python [conda env:base] *",
   "language": "python",
   "name": "conda-base-py"
  },
  "language_info": {
   "codemirror_mode": {
    "name": "ipython",
    "version": 3
   },
   "file_extension": ".py",
   "mimetype": "text/x-python",
   "name": "python",
   "nbconvert_exporter": "python",
   "pygments_lexer": "ipython3",
   "version": "3.12.7"
  }
 },
 "nbformat": 4,
 "nbformat_minor": 5
}
