{
  "nbformat": 4,
  "nbformat_minor": 0,
  "metadata": {
    "colab": {
      "provenance": [],
      "authorship_tag": "ABX9TyM3/vznClMnxNrxqqUSZxXk",
      "include_colab_link": true
    },
    "kernelspec": {
      "name": "python3",
      "display_name": "Python 3"
    },
    "language_info": {
      "name": "python"
    }
  },
  "cells": [
    {
      "cell_type": "markdown",
      "metadata": {
        "id": "view-in-github",
        "colab_type": "text"
      },
      "source": [
        "<a href=\"https://colab.research.google.com/github/overlord039/portfolioprojects/blob/main/bmi_calculator.ipynb\" target=\"_parent\"><img src=\"https://colab.research.google.com/assets/colab-badge.svg\" alt=\"Open In Colab\"/></a>"
      ]
    },
    {
      "cell_type": "code",
      "execution_count": 35,
      "metadata": {
        "colab": {
          "base_uri": "https://localhost:8080/"
        },
        "id": "bRNdwWhlu6Mm",
        "outputId": "60052f62-db41-44ed-f901-9c4182c7902e"
      },
      "outputs": [
        {
          "output_type": "stream",
          "name": "stdout",
          "text": [
            "enter your name: gdsr\n",
            "enter your gender [male]/[female]: male\n",
            "enter your age (above 2yr old): 5\n",
            "enter your weight in kg: 96\n",
            "enter your height in cm: 175\n",
            "BMI: 31.346938775510203\n",
            "BMI Prime : 1.253877551020408\n",
            "PI (Ponderal Index): 17.91253644314869\n",
            "Classification : Obese Class I\n"
          ]
        }
      ],
      "source": [
        "from random import choice\n",
        "name=str(input('enter your name: '))\n",
        "gender=input('enter your gender [male]/[female]: ')\n",
        "age=int(input('enter your age (above 2yr old): '))\n",
        "if age>2:\n",
        " weight=int(input(\"enter your weight in kg: \"))#\n",
        " height=int(input(\"enter your height in cm: \"))\n",
        " BMI=(weight)/((height/100)**2)\n",
        " print('BMI:',BMI)\n",
        " BMI_PRIME=(BMI)/25\n",
        " print('BMI Prime :',BMI_PRIME)\n",
        " PI = (weight)/((height/100)**3)\n",
        " print('PI (Ponderal Index):',PI)\n",
        " if BMI >0:\n",
        "  if BMI<16:\n",
        "   print('Classification : Severe Thinness')\n",
        "  elif BMI>16 and BMI<17 :\n",
        "   print('Classification : Moderate Thinness')\n",
        "  elif BMI>17 and BMI<18.5:\n",
        "   print('Classification : Mild Thinness')\n",
        "  elif BMI>18.5 and BMI<25:\n",
        "   print('Classification : Normal')\n",
        "  elif BMI>25 and BMI<30:\n",
        "   print('Classification : Overweight')\n",
        "  elif BMI>30 and BMI<35:\n",
        "   print('Classification : Obese Class I')\n",
        "  elif BMI>35 and BMI<40:\n",
        "   print('Classification : Obese Class II')\n",
        "  elif BMI>40:\n",
        "   print('Classification : Obese Class III')\n",
        "else:\n",
        " print('invalid')\n"
      ]
    },
    {
      "cell_type": "code",
      "source": [],
      "metadata": {
        "id": "BcLxToPZ0JfV"
      },
      "execution_count": null,
      "outputs": []
    }
  ]
}